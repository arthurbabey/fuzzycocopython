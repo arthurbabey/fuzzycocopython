{
 "cells": [
  {
   "cell_type": "code",
   "execution_count": 1,
   "metadata": {},
   "outputs": [],
   "source": [
    "import pandas as pd\n",
    "from sklearn.model_selection import train_test_split\n",
    "from fuzzycocopython.fuzzycoco_classifier import FuzzyCocoClassifier\n",
    "from fuzzycocopython.fuzzycoco_regressor import FuzzyCocoRegressor"
   ]
  },
  {
   "cell_type": "code",
   "execution_count": 2,
   "metadata": {},
   "outputs": [],
   "source": [
    "from sklearn.datasets import load_iris, load_diabetes\n",
    "from sklearn.model_selection import train_test_split\n",
    "\n",
    "# Classification dataset (Iris)\n",
    "iris = load_iris()\n",
    "X_train_iris, X_test_iris, y_train_iris, y_test_iris = train_test_split(\n",
    "    iris.data, iris.target, test_size=0.2, random_state=42\n",
    ")\n",
    "\n",
    "# Regression dataset (Diabetes)\n",
    "diabetes = load_diabetes()\n",
    "X_train_diabetes, X_test_diabetes, y_train_diabetes, y_test_diabetes = train_test_split(\n",
    "    diabetes.data, diabetes.target, test_size=0.2, random_state=42\n",
    ")\n"
   ]
  },
  {
   "cell_type": "code",
   "execution_count": 4,
   "metadata": {},
   "outputs": [
    {
     "name": "stderr",
     "output_type": "stream",
     "text": [
      "##========================================================================\n",
      "##FuzzyCocoScriptRunner::run()\n",
      "## params: Fuzzy Coco Params:\n",
      "===================\n",
      "Global params:\n",
      "| nb_rules | nb_max_var_per_rule | max_generations | max_fitness | nb_cooperators |\n",
      "|----------|---------------------|-----------------|-------------|----------------|\n",
      "        3 |                   3 |             100 |           0 |              2 |\n",
      "\n",
      "Input Variables:\n",
      "| nb_sets | nb_bits_vars | nb_bits_sets | nb_bit_pos |\n",
      "|---------|--------------|--------------|------------|\n",
      "       2 |            7 |            2 |          8 |\n",
      "\n",
      "Output Variables:\n",
      "| nb_sets | nb_bits_vars | nb_bits_sets | nb_bit_pos |\n",
      "|---------|--------------|--------------|------------|\n",
      "       2 |            1 |            1 |          1 |\n",
      "\n",
      "defuzz threshold:ACTIVATED\n",
      "output_vars_defuzz_thresholds:{0.5}\n",
      "Rules params\n",
      "| pop_size | elite_size | cx_prob | mut_flip_genome | mut_flip_bit |\n",
      "|----------|------------|---------|-----------------|--------------|\n",
      "      350 |         10 |       0 |               0 |            0 |\n",
      "\n",
      "MFs (Membership Functions) params\n",
      "| pop_size | elite_size | cx_prob | mut_flip_genome | mut_flip_bit |\n",
      "|----------|------------|---------|-----------------|--------------|\n",
      "      350 |         10 |       0 |               0 |            0 |\n",
      "\n",
      "Fitness Metric Weights:\n",
      "FuzzySystemMetrics: (sensitivity=1, specificity=1, accuracy=0, ppv=0, rmse=0.5, rrse=0, rae=0, mse=0, distanceThreshold=0.01, distanceMinThreshold=0, nb_vars=0, overLearn=0, TP=0, FP=0, TN=0, FN=0, )\n",
      "\n",
      "##========================================================================\n"
     ]
    },
    {
     "data": {
      "text/plain": [
       "np.float64(0.4666666666666667)"
      ]
     },
     "execution_count": 4,
     "metadata": {},
     "output_type": "execute_result"
    }
   ],
   "source": [
    "model = FuzzyCocoClassifier(random_state=42)\n",
    "\n",
    "my_feature_names = [\"Sepal.Length\", \"Sepal.Width\", \"Petal.Length\", \"Petal.Width\"]\n",
    "model.fit(X_train_iris, y_train_iris, feature_names=my_feature_names, target_name=\"OUT\")\n",
    "model.score(X_test_iris, y_test_iris, feature_names=my_feature_names)\n"
   ]
  },
  {
   "cell_type": "code",
   "execution_count": 4,
   "metadata": {},
   "outputs": [
    {
     "name": "stderr",
     "output_type": "stream",
     "text": [
      "##========================================================================\n",
      "##FuzzyCocoScriptRunner::run()\n",
      "## params: Fuzzy Coco Params:\n",
      "===================\n",
      "Global params:\n",
      "| nb_rules | nb_max_var_per_rule | max_generations | max_fitness | nb_cooperators |\n",
      "|----------|---------------------|-----------------|-------------|----------------|\n",
      "        3 |                   3 |             100 |           0 |              2 |\n",
      "\n",
      "Input Variables:\n",
      "| nb_sets | nb_bits_vars | nb_bits_sets | nb_bit_pos |\n",
      "|---------|--------------|--------------|------------|\n",
      "       2 |            7 |            2 |          8 |\n",
      "\n",
      "Output Variables:\n",
      "| nb_sets | nb_bits_vars | nb_bits_sets | nb_bit_pos |\n",
      "|---------|--------------|--------------|------------|\n",
      "       2 |            1 |            1 |          1 |\n",
      "\n",
      "defuzz threshold:ACTIVATED\n",
      "output_vars_defuzz_thresholds:{0.5}\n",
      "Rules params\n",
      "| pop_size | elite_size | cx_prob | mut_flip_genome | mut_flip_bit |\n",
      "|----------|------------|---------|-----------------|--------------|\n",
      "      350 |         10 |       0 |               0 |            0 |\n",
      "\n",
      "MFs (Membership Functions) params\n",
      "| pop_size | elite_size | cx_prob | mut_flip_genome | mut_flip_bit |\n",
      "|----------|------------|---------|-----------------|--------------|\n",
      "      350 |         10 |       0 |               0 |            0 |\n",
      "\n",
      "Fitness Metric Weights:\n",
      "FuzzySystemMetrics: (sensitivity=1, specificity=1, accuracy=0, ppv=0, rmse=0.5, rrse=0, rae=0, mse=0, distanceThreshold=0.01, distanceMinThreshold=0, nb_vars=0, overLearn=0, TP=0, FP=0, TN=0, FN=0, )\n",
      "\n",
      "##========================================================================\n"
     ]
    },
    {
     "data": {
      "text/plain": [
       "np.float64(0.4388100472705495)"
      ]
     },
     "execution_count": 4,
     "metadata": {},
     "output_type": "execute_result"
    }
   ],
   "source": [
    "# Regression dataset (Diabetes)\n",
    "diabetes = load_diabetes()\n",
    "X_train_diabetes, X_test_diabetes, y_train_diabetes, y_test_diabetes = train_test_split(\n",
    "    diabetes.data, diabetes.target, test_size=0.2, random_state=42\n",
    ")\n",
    "\n",
    "\n",
    "params = Params(seed=123)\n",
    "model2 = FuzzyCocoRegressor(params)\n",
    "model2.fit(X_train_diabetes, y_train_diabetes, feature_names=diabetes.feature_names, target_name=\"OUT\")\n",
    "model2.score(X_test_diabetes, y_test_diabetes, feature_names=diabetes.feature_names)"
   ]
  }
 ],
 "metadata": {
  "kernelspec": {
   "display_name": "fuzzy",
   "language": "python",
   "name": "python3"
  },
  "language_info": {
   "codemirror_mode": {
    "name": "ipython",
    "version": 3
   },
   "file_extension": ".py",
   "mimetype": "text/x-python",
   "name": "python",
   "nbconvert_exporter": "python",
   "pygments_lexer": "ipython3",
   "version": "3.11.11"
  }
 },
 "nbformat": 4,
 "nbformat_minor": 2
}
