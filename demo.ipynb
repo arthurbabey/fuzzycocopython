{
 "cells": [
  {
   "cell_type": "code",
   "execution_count": 1,
   "metadata": {},
   "outputs": [],
   "source": [
    "from sklearn.datasets import load_iris\n",
    "from sklearn.model_selection import train_test_split\n",
    "import numpy as np\n",
    "import matplotlib.pyplot as plt\n",
    "import pandas as pd\n",
    "\n",
    "\n",
    "iris = load_iris()\n",
    "X, y = iris.data, iris.target\n",
    "X_train, X_test, y_train, y_test = train_test_split(X, y, test_size=0.2, random_state=42)"
   ]
  },
  {
   "cell_type": "code",
   "execution_count": 2,
   "metadata": {},
   "outputs": [
    {
     "data": {
      "text/plain": [
       "['sepal_length', 'sepal_width', 'petal_length', 'petal_width']"
      ]
     },
     "execution_count": 2,
     "metadata": {},
     "output_type": "execute_result"
    }
   ],
   "source": [
    "feature_names = iris.feature_names\n",
    "feature_names = [name.replace(' (cm)', '') for name in feature_names]\n",
    "feature_names = [name.replace(' ', '_') for name in feature_names]\n",
    "feature_names\n"
   ]
  },
  {
   "cell_type": "code",
   "execution_count": 3,
   "metadata": {},
   "outputs": [
    {
     "ename": "TypeError",
     "evalue": "_FuzzyCocoBase.__init__() got an unexpected keyword argument 'metrics_weights'",
     "output_type": "error",
     "traceback": [
      "\u001b[0;31m---------------------------------------------------------------------------\u001b[0m",
      "\u001b[0;31mTypeError\u001b[0m                                 Traceback (most recent call last)",
      "Cell \u001b[0;32mIn[3], line 11\u001b[0m\n\u001b[1;32m      1\u001b[0m \u001b[38;5;28;01mfrom\u001b[39;00m\u001b[38;5;250m \u001b[39m\u001b[38;5;21;01mfuzzycocopython\u001b[39;00m\u001b[38;5;250m \u001b[39m\u001b[38;5;28;01mimport\u001b[39;00m FuzzyCocoClassifier\n\u001b[1;32m      3\u001b[0m metrics_weight \u001b[38;5;241m=\u001b[39m {\n\u001b[1;32m      4\u001b[0m     \u001b[38;5;124m\"\u001b[39m\u001b[38;5;124msensitivity\u001b[39m\u001b[38;5;124m\"\u001b[39m:        \u001b[38;5;241m1.0\u001b[39m,\n\u001b[1;32m      5\u001b[0m     \u001b[38;5;124m\"\u001b[39m\u001b[38;5;124mspecificity\u001b[39m\u001b[38;5;124m\"\u001b[39m:        \u001b[38;5;241m1.0\u001b[39m,\n\u001b[0;32m   (...)\u001b[0m\n\u001b[1;32m      8\u001b[0m     \u001b[38;5;124m\"\u001b[39m\u001b[38;5;124mnb_vars\u001b[39m\u001b[38;5;124m\"\u001b[39m:            \u001b[38;5;241m0.35\u001b[39m, \u001b[38;5;66;03m# Dontcare ??\u001b[39;00m\n\u001b[1;32m      9\u001b[0m }\n\u001b[0;32m---> 11\u001b[0m model \u001b[38;5;241m=\u001b[39m \u001b[43mFuzzyCocoClassifier\u001b[49m\u001b[43m(\u001b[49m\n\u001b[1;32m     12\u001b[0m \u001b[43m    \u001b[49m\u001b[43mmetrics_weights\u001b[49m\u001b[43m \u001b[49m\u001b[38;5;241;43m=\u001b[39;49m\u001b[43m \u001b[49m\u001b[43mmetrics_weight\u001b[49m\u001b[43m,\u001b[49m\n\u001b[1;32m     13\u001b[0m \u001b[43m    \u001b[49m\u001b[43mthreshold\u001b[49m\u001b[43m       \u001b[49m\u001b[38;5;241;43m=\u001b[39;49m\u001b[43m \u001b[49m\u001b[38;5;241;43m0.5\u001b[39;49m\u001b[43m,\u001b[49m\n\u001b[1;32m     14\u001b[0m \u001b[43m    \u001b[49m\u001b[43mnb_rules\u001b[49m\u001b[43m        \u001b[49m\u001b[38;5;241;43m=\u001b[39;49m\u001b[43m \u001b[49m\u001b[38;5;241;43m5\u001b[39;49m\u001b[43m,\u001b[49m\n\u001b[1;32m     15\u001b[0m \u001b[43m    \u001b[49m\u001b[43mmax_generations\u001b[49m\u001b[43m \u001b[49m\u001b[38;5;241;43m=\u001b[39;49m\u001b[43m \u001b[49m\u001b[38;5;241;43m20\u001b[39;49m\u001b[43m,\u001b[49m\n\u001b[1;32m     16\u001b[0m \u001b[43m)\u001b[49m\n\u001b[1;32m     17\u001b[0m model\u001b[38;5;241m.\u001b[39mfit(X_train, y_train, feature_names\u001b[38;5;241m=\u001b[39mfeature_names, target_name\u001b[38;5;241m=\u001b[39m\u001b[38;5;124m\"\u001b[39m\u001b[38;5;124mspecies\u001b[39m\u001b[38;5;124m\"\u001b[39m)\n",
      "\u001b[0;31mTypeError\u001b[0m: _FuzzyCocoBase.__init__() got an unexpected keyword argument 'metrics_weights'"
     ]
    }
   ],
   "source": [
    "from fuzzycocopython import FuzzyCocoClassifier\n",
    "\n",
    "metrics_weight = {\n",
    "    \"sensitivity\":        1.0,\n",
    "    \"specificity\":        1.0,\n",
    "    \"rmse\":               0.5,\n",
    "    \"distanceThreshold\":  0.01,\n",
    "    \"nb_vars\":            0.35, # Dontcare ??\n",
    "}\n",
    "\n",
    "model = FuzzyCocoClassifier(\n",
    "    metrics_weights = metrics_weight,\n",
    "    threshold       = 0.5,\n",
    "    nb_rules        = 5,\n",
    "    max_generations = 20,\n",
    ")\n",
    "model.fit(X_train, y_train, feature_names=feature_names, target_name=\"species\")"
   ]
  },
  {
   "cell_type": "code",
   "execution_count": 8,
   "metadata": {},
   "outputs": [
    {
     "data": {
      "text/plain": [
       "array([1, 0, 2, 1, 1, 0, 1, 2, 1, 1, 2, 0, 0, 0, 0, 1, 2, 1, 1, 2, 0, 2,\n",
       "       0, 2, 2, 2, 2, 2, 0, 0])"
      ]
     },
     "execution_count": 8,
     "metadata": {},
     "output_type": "execute_result"
    }
   ],
   "source": [
    "model.predict(X_test)"
   ]
  },
  {
   "cell_type": "code",
   "execution_count": 9,
   "metadata": {},
   "outputs": [
    {
     "data": {
      "text/plain": [
       "1.0"
      ]
     },
     "execution_count": 9,
     "metadata": {},
     "output_type": "execute_result"
    }
   ],
   "source": [
    "model.score(X_test, y_test)"
   ]
  },
  {
   "cell_type": "code",
   "execution_count": 10,
   "metadata": {},
   "outputs": [
    {
     "data": {
      "text/plain": [
       "{'fitness': 0.9363519638847665,\n",
       " 'fitness_metrics_weights': {'sensitivity': 1.0,\n",
       "  'specificity': 1.0,\n",
       "  'accuracy': 0.0,\n",
       "  'ppv': 0.0,\n",
       "  'rmse': 0.5,\n",
       "  'rrse': 0.0,\n",
       "  'rae': 0.0,\n",
       "  'mse': 0.0,\n",
       "  'distanceThreshold': 0.01,\n",
       "  'distanceMinThreshold': 0.0,\n",
       "  'nb_vars': 0.35,\n",
       "  'overLearn': 0.0,\n",
       "  'true_positives': 0.0,\n",
       "  'false_positives': 0.0,\n",
       "  'true_negatives': 0.0,\n",
       "  'false_negatives': 0.0},\n",
       " 'fuzzy_system': {'variables': {'input': {'sepal_length': {'sepal_length.1': 5.033333333333333,\n",
       "     'sepal_length.2': 6.766666666666667},\n",
       "    'sepal_width': {'sepal_width.1': 3.2329411764705887,\n",
       "     'sepal_width.2': 4.145882352941177},\n",
       "    'petal_length': {'petal_length.1': 2.1176470588235294,\n",
       "     'petal_length.2': 5.91764705882353},\n",
       "    'petal_width': {'petal_width.1': 1.2670588235294118,\n",
       "     'petal_width.2': 1.8976470588235292}},\n",
       "   'output': {'species': {'species.1': 0.07058823529411765,\n",
       "     'species.2': 1.9607843137254901}}},\n",
       "  'rules': {'rule1': {'antecedents': {'petal_length': {'petal_length.1': 2.1176470588235294},\n",
       "     'petal_width': {'petal_width.1': 1.2670588235294118}},\n",
       "    'consequents': {'species': {'species.1': 0.07058823529411765}}}},\n",
       "  'default_rules': {'species': 'species.2'}},\n",
       " 'defuzz_thresholds': {'species': 0.5}}"
      ]
     },
     "execution_count": 10,
     "metadata": {},
     "output_type": "execute_result"
    }
   ],
   "source": [
    "model.description_"
   ]
  },
  {
   "cell_type": "code",
   "execution_count": 11,
   "metadata": {},
   "outputs": [
    {
     "data": {
      "text/plain": [
       "[IF (petal_length is Low AND_min petal_width is Low), THEN (species is Low)]"
      ]
     },
     "execution_count": 11,
     "metadata": {},
     "output_type": "execute_result"
    }
   ],
   "source": [
    "model.rules_"
   ]
  },
  {
   "cell_type": "code",
   "execution_count": 12,
   "metadata": {},
   "outputs": [
    {
     "data": {
      "text/plain": [
       "[ELSE (species is High)]"
      ]
     },
     "execution_count": 12,
     "metadata": {},
     "output_type": "execute_result"
    }
   ],
   "source": [
    "model.default_rules_"
   ]
  },
  {
   "cell_type": "code",
   "execution_count": 13,
   "metadata": {},
   "outputs": [
    {
     "data": {
      "text/plain": [
       "[Name: sepal_length, values: dict_keys(['Low', 'High']),\n",
       " Name: sepal_width, values: dict_keys(['Low', 'High']),\n",
       " Name: petal_length, values: dict_keys(['Low', 'High']),\n",
       " Name: petal_width, values: dict_keys(['Low', 'High']),\n",
       " Name: species, values: dict_keys(['Low', 'High'])]"
      ]
     },
     "execution_count": 13,
     "metadata": {},
     "output_type": "execute_result"
    }
   ],
   "source": [
    "model.variables_"
   ]
  },
  {
   "cell_type": "code",
   "execution_count": null,
   "metadata": {},
   "outputs": [],
   "source": []
  }
 ],
 "metadata": {
  "kernelspec": {
   "display_name": "test",
   "language": "python",
   "name": "python3"
  },
  "language_info": {
   "codemirror_mode": {
    "name": "ipython",
    "version": 3
   },
   "file_extension": ".py",
   "mimetype": "text/x-python",
   "name": "python",
   "nbconvert_exporter": "python",
   "pygments_lexer": "ipython3",
   "version": "3.10.18"
  }
 },
 "nbformat": 4,
 "nbformat_minor": 2
}
